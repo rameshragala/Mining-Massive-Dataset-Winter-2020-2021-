{
  "nbformat": 4,
  "nbformat_minor": 0,
  "metadata": {
    "colab": {
      "name": "DecisionTree_Pyspark_3.ipynb",
      "provenance": []
    },
    "kernelspec": {
      "name": "python3",
      "display_name": "Python 3"
    }
  },
  "cells": [
    {
      "cell_type": "code",
      "metadata": {
        "colab": {
          "base_uri": "https://localhost:8080/"
        },
        "id": "JwAt1CVYVeIa",
        "outputId": "a371ebfd-39f9-4f10-a9ec-074eac171529"
      },
      "source": [
        "!pip install pyspark\n",
        "!pip install -U -q PyDrive\n",
        "!apt install openjdk-8-jdk-headless -qq\n",
        "import os\n",
        "os.environ[\"JAVA_HOME\"] = \"/usr/lib/jvm/java-8-openjdk-amd64\""
      ],
      "execution_count": null,
      "outputs": [
        {
          "output_type": "stream",
          "text": [
            "Collecting pyspark\n",
            "\u001b[?25l  Downloading https://files.pythonhosted.org/packages/27/67/5158f846202d7f012d1c9ca21c3549a58fd3c6707ae8ee823adcaca6473c/pyspark-3.0.2.tar.gz (204.8MB)\n",
            "\u001b[K     |████████████████████████████████| 204.8MB 72kB/s \n",
            "\u001b[?25hCollecting py4j==0.10.9\n",
            "\u001b[?25l  Downloading https://files.pythonhosted.org/packages/9e/b6/6a4fb90cd235dc8e265a6a2067f2a2c99f0d91787f06aca4bcf7c23f3f80/py4j-0.10.9-py2.py3-none-any.whl (198kB)\n",
            "\u001b[K     |████████████████████████████████| 204kB 17.7MB/s \n",
            "\u001b[?25hBuilding wheels for collected packages: pyspark\n",
            "  Building wheel for pyspark (setup.py) ... \u001b[?25l\u001b[?25hdone\n",
            "  Created wheel for pyspark: filename=pyspark-3.0.2-py2.py3-none-any.whl size=205186687 sha256=5647fdd7f6b2e3393511bd863a57fd2b1dba465cccc9d6b73562fd4265c01593\n",
            "  Stored in directory: /root/.cache/pip/wheels/8b/09/da/c1f2859bcc86375dc972c5b6af4881b3603269bcc4c9be5d16\n",
            "Successfully built pyspark\n",
            "Installing collected packages: py4j, pyspark\n",
            "Successfully installed py4j-0.10.9 pyspark-3.0.2\n",
            "The following additional packages will be installed:\n",
            "  openjdk-8-jre-headless\n",
            "Suggested packages:\n",
            "  openjdk-8-demo openjdk-8-source libnss-mdns fonts-dejavu-extra\n",
            "  fonts-ipafont-gothic fonts-ipafont-mincho fonts-wqy-microhei\n",
            "  fonts-wqy-zenhei fonts-indic\n",
            "The following NEW packages will be installed:\n",
            "  openjdk-8-jdk-headless openjdk-8-jre-headless\n",
            "0 upgraded, 2 newly installed, 0 to remove and 11 not upgraded.\n",
            "Need to get 36.5 MB of archives.\n",
            "After this operation, 143 MB of additional disk space will be used.\n",
            "Selecting previously unselected package openjdk-8-jre-headless:amd64.\n",
            "(Reading database ... 149414 files and directories currently installed.)\n",
            "Preparing to unpack .../openjdk-8-jre-headless_8u282-b08-0ubuntu1~18.04_amd64.deb ...\n",
            "Unpacking openjdk-8-jre-headless:amd64 (8u282-b08-0ubuntu1~18.04) ...\n",
            "Selecting previously unselected package openjdk-8-jdk-headless:amd64.\n",
            "Preparing to unpack .../openjdk-8-jdk-headless_8u282-b08-0ubuntu1~18.04_amd64.deb ...\n",
            "Unpacking openjdk-8-jdk-headless:amd64 (8u282-b08-0ubuntu1~18.04) ...\n",
            "Setting up openjdk-8-jre-headless:amd64 (8u282-b08-0ubuntu1~18.04) ...\n",
            "update-alternatives: using /usr/lib/jvm/java-8-openjdk-amd64/jre/bin/orbd to provide /usr/bin/orbd (orbd) in auto mode\n",
            "update-alternatives: using /usr/lib/jvm/java-8-openjdk-amd64/jre/bin/servertool to provide /usr/bin/servertool (servertool) in auto mode\n",
            "update-alternatives: using /usr/lib/jvm/java-8-openjdk-amd64/jre/bin/tnameserv to provide /usr/bin/tnameserv (tnameserv) in auto mode\n",
            "Setting up openjdk-8-jdk-headless:amd64 (8u282-b08-0ubuntu1~18.04) ...\n",
            "update-alternatives: using /usr/lib/jvm/java-8-openjdk-amd64/bin/idlj to provide /usr/bin/idlj (idlj) in auto mode\n",
            "update-alternatives: using /usr/lib/jvm/java-8-openjdk-amd64/bin/wsimport to provide /usr/bin/wsimport (wsimport) in auto mode\n",
            "update-alternatives: using /usr/lib/jvm/java-8-openjdk-amd64/bin/jsadebugd to provide /usr/bin/jsadebugd (jsadebugd) in auto mode\n",
            "update-alternatives: using /usr/lib/jvm/java-8-openjdk-amd64/bin/native2ascii to provide /usr/bin/native2ascii (native2ascii) in auto mode\n",
            "update-alternatives: using /usr/lib/jvm/java-8-openjdk-amd64/bin/javah to provide /usr/bin/javah (javah) in auto mode\n",
            "update-alternatives: using /usr/lib/jvm/java-8-openjdk-amd64/bin/hsdb to provide /usr/bin/hsdb (hsdb) in auto mode\n",
            "update-alternatives: using /usr/lib/jvm/java-8-openjdk-amd64/bin/clhsdb to provide /usr/bin/clhsdb (clhsdb) in auto mode\n",
            "update-alternatives: using /usr/lib/jvm/java-8-openjdk-amd64/bin/xjc to provide /usr/bin/xjc (xjc) in auto mode\n",
            "update-alternatives: using /usr/lib/jvm/java-8-openjdk-amd64/bin/schemagen to provide /usr/bin/schemagen (schemagen) in auto mode\n",
            "update-alternatives: using /usr/lib/jvm/java-8-openjdk-amd64/bin/extcheck to provide /usr/bin/extcheck (extcheck) in auto mode\n",
            "update-alternatives: using /usr/lib/jvm/java-8-openjdk-amd64/bin/jhat to provide /usr/bin/jhat (jhat) in auto mode\n",
            "update-alternatives: using /usr/lib/jvm/java-8-openjdk-amd64/bin/wsgen to provide /usr/bin/wsgen (wsgen) in auto mode\n"
          ],
          "name": "stdout"
        }
      ]
    },
    {
      "cell_type": "code",
      "metadata": {
        "id": "NAh_oy9Mg9rL"
      },
      "source": [
        "import pyspark\n",
        "from pyspark.sql import *\n",
        "from pyspark.sql.functions import *\n",
        "from pyspark import SparkContext, SparkConf\n",
        "from pyspark.sql import SQLContext"
      ],
      "execution_count": null,
      "outputs": []
    },
    {
      "cell_type": "code",
      "metadata": {
        "id": "xK9TKS4ghBsc"
      },
      "source": [
        "# create the session\n",
        "conf = SparkConf().set(\"spark.ui.port\", \"4050\")\n",
        "\n",
        "# create the context\n",
        "sc = pyspark.SparkContext(conf=conf)\n",
        "spark = SparkSession.builder.getOrCreate()\n",
        "sqlContext = SQLContext(sc)"
      ],
      "execution_count": null,
      "outputs": []
    },
    {
      "cell_type": "code",
      "metadata": {
        "id": "0C1ENFmYgRmC"
      },
      "source": [
        "from pyspark.ml import Pipeline\n",
        "from pyspark.ml.classification import DecisionTreeClassifier\n",
        "from pyspark.ml.feature import StringIndexer, VectorIndexer\n",
        "from pyspark.ml.evaluation import MulticlassClassificationEvaluator"
      ],
      "execution_count": null,
      "outputs": []
    },
    {
      "cell_type": "code",
      "metadata": {
        "id": "SrJBwzjygP5C"
      },
      "source": [
        "# Load the data stored in LIBSVM format as a DataFrame.\n",
        "data = spark.read.format(\"libsvm\").load(\"/content/sample_libsvm_data.txt\")"
      ],
      "execution_count": null,
      "outputs": []
    },
    {
      "cell_type": "code",
      "metadata": {
        "colab": {
          "base_uri": "https://localhost:8080/"
        },
        "id": "Jlvn5-D8hfQE",
        "outputId": "cdb8703d-10eb-4190-c9f3-430c43a02dfb"
      },
      "source": [
        "data.take(5)"
      ],
      "execution_count": null,
      "outputs": [
        {
          "output_type": "execute_result",
          "data": {
            "text/plain": [
              "[Row(label=0.0, features=SparseVector(692, {127: 51.0, 128: 159.0, 129: 253.0, 130: 159.0, 131: 50.0, 154: 48.0, 155: 238.0, 156: 252.0, 157: 252.0, 158: 252.0, 159: 237.0, 181: 54.0, 182: 227.0, 183: 253.0, 184: 252.0, 185: 239.0, 186: 233.0, 187: 252.0, 188: 57.0, 189: 6.0, 207: 10.0, 208: 60.0, 209: 224.0, 210: 252.0, 211: 253.0, 212: 252.0, 213: 202.0, 214: 84.0, 215: 252.0, 216: 253.0, 217: 122.0, 235: 163.0, 236: 252.0, 237: 252.0, 238: 252.0, 239: 253.0, 240: 252.0, 241: 252.0, 242: 96.0, 243: 189.0, 244: 253.0, 245: 167.0, 262: 51.0, 263: 238.0, 264: 253.0, 265: 253.0, 266: 190.0, 267: 114.0, 268: 253.0, 269: 228.0, 270: 47.0, 271: 79.0, 272: 255.0, 273: 168.0, 289: 48.0, 290: 238.0, 291: 252.0, 292: 252.0, 293: 179.0, 294: 12.0, 295: 75.0, 296: 121.0, 297: 21.0, 300: 253.0, 301: 243.0, 302: 50.0, 316: 38.0, 317: 165.0, 318: 253.0, 319: 233.0, 320: 208.0, 321: 84.0, 328: 253.0, 329: 252.0, 330: 165.0, 343: 7.0, 344: 178.0, 345: 252.0, 346: 240.0, 347: 71.0, 348: 19.0, 349: 28.0, 356: 253.0, 357: 252.0, 358: 195.0, 371: 57.0, 372: 252.0, 373: 252.0, 374: 63.0, 384: 253.0, 385: 252.0, 386: 195.0, 399: 198.0, 400: 253.0, 401: 190.0, 412: 255.0, 413: 253.0, 414: 196.0, 426: 76.0, 427: 246.0, 428: 252.0, 429: 112.0, 440: 253.0, 441: 252.0, 442: 148.0, 454: 85.0, 455: 252.0, 456: 230.0, 457: 25.0, 466: 7.0, 467: 135.0, 468: 253.0, 469: 186.0, 470: 12.0, 482: 85.0, 483: 252.0, 484: 223.0, 493: 7.0, 494: 131.0, 495: 252.0, 496: 225.0, 497: 71.0, 510: 85.0, 511: 252.0, 512: 145.0, 520: 48.0, 521: 165.0, 522: 252.0, 523: 173.0, 538: 86.0, 539: 253.0, 540: 225.0, 547: 114.0, 548: 238.0, 549: 253.0, 550: 162.0, 566: 85.0, 567: 252.0, 568: 249.0, 569: 146.0, 570: 48.0, 571: 29.0, 572: 85.0, 573: 178.0, 574: 225.0, 575: 253.0, 576: 223.0, 577: 167.0, 578: 56.0, 594: 85.0, 595: 252.0, 596: 252.0, 597: 252.0, 598: 229.0, 599: 215.0, 600: 252.0, 601: 252.0, 602: 252.0, 603: 196.0, 604: 130.0, 622: 28.0, 623: 199.0, 624: 252.0, 625: 252.0, 626: 253.0, 627: 252.0, 628: 252.0, 629: 233.0, 630: 145.0, 651: 25.0, 652: 128.0, 653: 252.0, 654: 253.0, 655: 252.0, 656: 141.0, 657: 37.0})),\n",
              " Row(label=1.0, features=SparseVector(692, {158: 124.0, 159: 253.0, 160: 255.0, 161: 63.0, 185: 96.0, 186: 244.0, 187: 251.0, 188: 253.0, 189: 62.0, 213: 127.0, 214: 251.0, 215: 251.0, 216: 253.0, 217: 62.0, 240: 68.0, 241: 236.0, 242: 251.0, 243: 211.0, 244: 31.0, 245: 8.0, 267: 60.0, 268: 228.0, 269: 251.0, 270: 251.0, 271: 94.0, 295: 155.0, 296: 253.0, 297: 253.0, 298: 189.0, 322: 20.0, 323: 253.0, 324: 251.0, 325: 235.0, 326: 66.0, 349: 32.0, 350: 205.0, 351: 253.0, 352: 251.0, 353: 126.0, 377: 104.0, 378: 251.0, 379: 253.0, 380: 184.0, 381: 15.0, 404: 80.0, 405: 240.0, 406: 251.0, 407: 193.0, 408: 23.0, 431: 32.0, 432: 253.0, 433: 253.0, 434: 253.0, 435: 159.0, 459: 151.0, 460: 251.0, 461: 251.0, 462: 251.0, 463: 39.0, 486: 48.0, 487: 221.0, 488: 251.0, 489: 251.0, 490: 172.0, 514: 234.0, 515: 251.0, 516: 251.0, 517: 196.0, 518: 12.0, 542: 253.0, 543: 251.0, 544: 251.0, 545: 89.0, 569: 159.0, 570: 255.0, 571: 253.0, 572: 253.0, 573: 31.0, 596: 48.0, 597: 228.0, 598: 253.0, 599: 247.0, 600: 140.0, 601: 8.0, 624: 64.0, 625: 251.0, 626: 253.0, 627: 220.0, 652: 64.0, 653: 251.0, 654: 253.0, 655: 220.0, 680: 24.0, 681: 193.0, 682: 253.0, 683: 220.0})),\n",
              " Row(label=1.0, features=SparseVector(692, {124: 145.0, 125: 255.0, 126: 211.0, 127: 31.0, 151: 32.0, 152: 237.0, 153: 253.0, 154: 252.0, 155: 71.0, 179: 11.0, 180: 175.0, 181: 253.0, 182: 252.0, 183: 71.0, 208: 144.0, 209: 253.0, 210: 252.0, 211: 71.0, 235: 16.0, 236: 191.0, 237: 253.0, 238: 252.0, 239: 71.0, 263: 26.0, 264: 221.0, 265: 253.0, 266: 252.0, 267: 124.0, 268: 31.0, 292: 125.0, 293: 253.0, 294: 252.0, 295: 252.0, 296: 108.0, 321: 253.0, 322: 252.0, 323: 252.0, 324: 108.0, 349: 255.0, 350: 253.0, 351: 253.0, 352: 108.0, 377: 253.0, 378: 252.0, 379: 252.0, 380: 108.0, 405: 253.0, 406: 252.0, 407: 252.0, 408: 108.0, 433: 253.0, 434: 252.0, 435: 252.0, 436: 108.0, 461: 255.0, 462: 253.0, 463: 253.0, 464: 170.0, 489: 253.0, 490: 252.0, 491: 252.0, 492: 252.0, 493: 42.0, 517: 149.0, 518: 252.0, 519: 252.0, 520: 252.0, 521: 144.0, 545: 109.0, 546: 252.0, 547: 252.0, 548: 252.0, 549: 144.0, 574: 218.0, 575: 253.0, 576: 253.0, 577: 255.0, 578: 35.0, 602: 175.0, 603: 252.0, 604: 252.0, 605: 253.0, 606: 35.0, 630: 73.0, 631: 252.0, 632: 252.0, 633: 253.0, 634: 35.0, 658: 31.0, 659: 211.0, 660: 252.0, 661: 253.0, 662: 35.0})),\n",
              " Row(label=1.0, features=SparseVector(692, {152: 5.0, 153: 63.0, 154: 197.0, 180: 20.0, 181: 254.0, 182: 230.0, 183: 24.0, 208: 20.0, 209: 254.0, 210: 254.0, 211: 48.0, 236: 20.0, 237: 254.0, 238: 255.0, 239: 48.0, 264: 20.0, 265: 254.0, 266: 254.0, 267: 57.0, 292: 20.0, 293: 254.0, 294: 254.0, 295: 108.0, 320: 16.0, 321: 239.0, 322: 254.0, 323: 143.0, 349: 178.0, 350: 254.0, 351: 143.0, 377: 178.0, 378: 254.0, 379: 143.0, 405: 178.0, 406: 254.0, 407: 162.0, 433: 178.0, 434: 254.0, 435: 240.0, 461: 113.0, 462: 254.0, 463: 240.0, 489: 83.0, 490: 254.0, 491: 245.0, 492: 31.0, 517: 79.0, 518: 254.0, 519: 246.0, 520: 38.0, 546: 214.0, 547: 254.0, 548: 150.0, 574: 144.0, 575: 241.0, 576: 8.0, 602: 144.0, 603: 240.0, 604: 2.0, 630: 144.0, 631: 254.0, 632: 82.0, 658: 230.0, 659: 247.0, 660: 40.0, 686: 168.0, 687: 209.0, 688: 31.0})),\n",
              " Row(label=1.0, features=SparseVector(692, {151: 1.0, 152: 168.0, 153: 242.0, 154: 28.0, 179: 10.0, 180: 228.0, 181: 254.0, 182: 100.0, 208: 190.0, 209: 254.0, 210: 122.0, 236: 83.0, 237: 254.0, 238: 162.0, 264: 29.0, 265: 254.0, 266: 248.0, 267: 25.0, 292: 29.0, 293: 255.0, 294: 254.0, 295: 103.0, 320: 29.0, 321: 254.0, 322: 254.0, 323: 109.0, 348: 29.0, 349: 254.0, 350: 254.0, 351: 109.0, 376: 29.0, 377: 254.0, 378: 254.0, 379: 109.0, 404: 29.0, 405: 255.0, 406: 254.0, 407: 109.0, 432: 29.0, 433: 254.0, 434: 254.0, 435: 109.0, 460: 29.0, 461: 254.0, 462: 254.0, 463: 63.0, 488: 29.0, 489: 254.0, 490: 254.0, 491: 28.0, 516: 29.0, 517: 254.0, 518: 254.0, 519: 28.0, 544: 29.0, 545: 254.0, 546: 254.0, 547: 35.0, 572: 29.0, 573: 254.0, 574: 254.0, 575: 109.0, 600: 6.0, 601: 212.0, 602: 254.0, 603: 109.0, 629: 203.0, 630: 254.0, 631: 178.0, 657: 155.0, 658: 254.0, 659: 190.0, 685: 32.0, 686: 199.0, 687: 104.0}))]"
            ]
          },
          "metadata": {
            "tags": []
          },
          "execution_count": 36
        }
      ]
    },
    {
      "cell_type": "code",
      "metadata": {
        "id": "JD9QbxU1gzt6"
      },
      "source": [
        "# Index labels, adding metadata to the label column.\n",
        "# Fit on whole dataset to include all labels in index.\n",
        "labelIndexer = StringIndexer(inputCol=\"label\", outputCol=\"indexedLabel\").fit(data)"
      ],
      "execution_count": null,
      "outputs": []
    },
    {
      "cell_type": "code",
      "metadata": {
        "colab": {
          "base_uri": "https://localhost:8080/"
        },
        "id": "iaOxLU2JhdP_",
        "outputId": "1e436820-4de8-4113-db3b-1246cc877d6b"
      },
      "source": [
        "labelIndexer_show = labelIndexer.transform(data)\n",
        "labelIndexer_show.show()"
      ],
      "execution_count": null,
      "outputs": [
        {
          "output_type": "stream",
          "text": [
            "+-----+--------------------+------------+\n",
            "|label|            features|indexedLabel|\n",
            "+-----+--------------------+------------+\n",
            "|  0.0|(692,[127,128,129...|         1.0|\n",
            "|  1.0|(692,[158,159,160...|         0.0|\n",
            "|  1.0|(692,[124,125,126...|         0.0|\n",
            "|  1.0|(692,[152,153,154...|         0.0|\n",
            "|  1.0|(692,[151,152,153...|         0.0|\n",
            "|  0.0|(692,[129,130,131...|         1.0|\n",
            "|  1.0|(692,[158,159,160...|         0.0|\n",
            "|  1.0|(692,[99,100,101,...|         0.0|\n",
            "|  0.0|(692,[154,155,156...|         1.0|\n",
            "|  0.0|(692,[127,128,129...|         1.0|\n",
            "|  1.0|(692,[154,155,156...|         0.0|\n",
            "|  0.0|(692,[153,154,155...|         1.0|\n",
            "|  0.0|(692,[151,152,153...|         1.0|\n",
            "|  1.0|(692,[129,130,131...|         0.0|\n",
            "|  0.0|(692,[154,155,156...|         1.0|\n",
            "|  1.0|(692,[150,151,152...|         0.0|\n",
            "|  0.0|(692,[124,125,126...|         1.0|\n",
            "|  0.0|(692,[152,153,154...|         1.0|\n",
            "|  1.0|(692,[97,98,99,12...|         0.0|\n",
            "|  1.0|(692,[124,125,126...|         0.0|\n",
            "+-----+--------------------+------------+\n",
            "only showing top 20 rows\n",
            "\n"
          ],
          "name": "stdout"
        }
      ]
    },
    {
      "cell_type": "code",
      "metadata": {
        "colab": {
          "base_uri": "https://localhost:8080/"
        },
        "id": "MIpIz3Pchxah",
        "outputId": "732fd21c-2b0f-49c7-f291-a80228dc7f76"
      },
      "source": [
        "featureIndexer = VectorIndexer(inputCol=\"features\", outputCol=\"indexedFeatures\", maxCategories=4).fit(data)\n",
        "featureIndexer_show = featureIndexer.transform(data)\n",
        "featureIndexer_show.show()"
      ],
      "execution_count": null,
      "outputs": [
        {
          "output_type": "stream",
          "text": [
            "+-----+--------------------+--------------------+\n",
            "|label|            features|     indexedFeatures|\n",
            "+-----+--------------------+--------------------+\n",
            "|  0.0|(692,[127,128,129...|(692,[127,128,129...|\n",
            "|  1.0|(692,[158,159,160...|(692,[158,159,160...|\n",
            "|  1.0|(692,[124,125,126...|(692,[124,125,126...|\n",
            "|  1.0|(692,[152,153,154...|(692,[152,153,154...|\n",
            "|  1.0|(692,[151,152,153...|(692,[151,152,153...|\n",
            "|  0.0|(692,[129,130,131...|(692,[129,130,131...|\n",
            "|  1.0|(692,[158,159,160...|(692,[158,159,160...|\n",
            "|  1.0|(692,[99,100,101,...|(692,[99,100,101,...|\n",
            "|  0.0|(692,[154,155,156...|(692,[154,155,156...|\n",
            "|  0.0|(692,[127,128,129...|(692,[127,128,129...|\n",
            "|  1.0|(692,[154,155,156...|(692,[154,155,156...|\n",
            "|  0.0|(692,[153,154,155...|(692,[153,154,155...|\n",
            "|  0.0|(692,[151,152,153...|(692,[151,152,153...|\n",
            "|  1.0|(692,[129,130,131...|(692,[129,130,131...|\n",
            "|  0.0|(692,[154,155,156...|(692,[154,155,156...|\n",
            "|  1.0|(692,[150,151,152...|(692,[150,151,152...|\n",
            "|  0.0|(692,[124,125,126...|(692,[124,125,126...|\n",
            "|  0.0|(692,[152,153,154...|(692,[152,153,154...|\n",
            "|  1.0|(692,[97,98,99,12...|(692,[97,98,99,12...|\n",
            "|  1.0|(692,[124,125,126...|(692,[124,125,126...|\n",
            "+-----+--------------------+--------------------+\n",
            "only showing top 20 rows\n",
            "\n"
          ],
          "name": "stdout"
        }
      ]
    },
    {
      "cell_type": "code",
      "metadata": {
        "colab": {
          "base_uri": "https://localhost:8080/"
        },
        "id": "fNZJTmsGzEmS",
        "outputId": "e79a03dd-cb5c-43bc-a5a1-673ddd90fce3"
      },
      "source": [
        "categoricalFeatures = featureIndexer.categoryMaps\n",
        "print(\"Chose %d categorical features: %s\" % (len(categoricalFeatures), \", \".join(str(k) for k in categoricalFeatures.keys())))"
      ],
      "execution_count": null,
      "outputs": [
        {
          "output_type": "stream",
          "text": [
            "Chose 315 categorical features: 645, 69, 365, 138, 479, 333, 249, 0, 666, 88, 170, 115, 276, 308, 5, 449, 120, 614, 677, 202, 10, 56, 533, 142, 340, 670, 174, 42, 417, 24, 37, 25, 257, 389, 52, 14, 504, 110, 587, 619, 196, 559, 638, 20, 421, 46, 93, 284, 228, 448, 57, 78, 29, 475, 164, 591, 646, 253, 106, 121, 84, 147, 280, 61, 221, 396, 89, 133, 116, 1, 507, 312, 74, 307, 452, 6, 248, 60, 117, 678, 529, 85, 201, 220, 366, 534, 102, 334, 28, 38, 561, 392, 70, 424, 192, 21, 137, 165, 33, 92, 229, 252, 197, 361, 65, 97, 665, 224, 615, 9, 53, 169, 141, 420, 109, 256, 225, 339, 77, 193, 669, 476, 642, 590, 679, 96, 393, 647, 173, 13, 41, 503, 134, 73, 105, 2, 311, 558, 674, 530, 586, 618, 166, 32, 34, 148, 45, 279, 64, 17, 584, 562, 423, 191, 22, 44, 59, 118, 281, 27, 641, 71, 391, 12, 445, 54, 611, 144, 49, 335, 86, 672, 172, 113, 219, 419, 81, 362, 451, 76, 7, 39, 649, 98, 616, 477, 367, 535, 103, 140, 621, 91, 66, 251, 668, 198, 108, 278, 223, 394, 306, 135, 563, 226, 3, 505, 80, 167, 35, 473, 675, 589, 531, 255, 648, 112, 617, 194, 145, 48, 557, 63, 640, 18, 282, 95, 310, 50, 67, 199, 673, 16, 585, 502, 338, 643, 31, 336, 613, 11, 72, 446, 612, 143, 43, 250, 450, 99, 363, 87, 671, 104, 368, 588, 40, 26, 390, 55, 114, 171, 139, 418, 23, 8, 75, 119, 58, 667, 478, 82, 620, 447, 36, 168, 146, 30, 51, 19, 422, 564, 305, 107, 4, 136, 506, 79, 195, 474, 532, 94, 283, 395, 644, 47, 15, 163, 200, 68, 62, 277, 691, 501, 90, 111, 254, 227, 337, 83, 309, 560, 639, 676, 222, 592, 364\n"
          ],
          "name": "stdout"
        }
      ]
    },
    {
      "cell_type": "code",
      "metadata": {
        "colab": {
          "base_uri": "https://localhost:8080/"
        },
        "id": "Dv874XXvzWCK",
        "outputId": "11dbd1b9-dc50-4cc4-922f-c40b6c6907c7"
      },
      "source": [
        "# Create new column \"indexed\" with categorical values transformed to indices\n",
        "indexedData = featureIndexer.transform(data)\n",
        "indexedData.show()"
      ],
      "execution_count": null,
      "outputs": [
        {
          "output_type": "stream",
          "text": [
            "+-----+--------------------+--------------------+\n",
            "|label|            features|     indexedFeatures|\n",
            "+-----+--------------------+--------------------+\n",
            "|  0.0|(692,[127,128,129...|(692,[127,128,129...|\n",
            "|  1.0|(692,[158,159,160...|(692,[158,159,160...|\n",
            "|  1.0|(692,[124,125,126...|(692,[124,125,126...|\n",
            "|  1.0|(692,[152,153,154...|(692,[152,153,154...|\n",
            "|  1.0|(692,[151,152,153...|(692,[151,152,153...|\n",
            "|  0.0|(692,[129,130,131...|(692,[129,130,131...|\n",
            "|  1.0|(692,[158,159,160...|(692,[158,159,160...|\n",
            "|  1.0|(692,[99,100,101,...|(692,[99,100,101,...|\n",
            "|  0.0|(692,[154,155,156...|(692,[154,155,156...|\n",
            "|  0.0|(692,[127,128,129...|(692,[127,128,129...|\n",
            "|  1.0|(692,[154,155,156...|(692,[154,155,156...|\n",
            "|  0.0|(692,[153,154,155...|(692,[153,154,155...|\n",
            "|  0.0|(692,[151,152,153...|(692,[151,152,153...|\n",
            "|  1.0|(692,[129,130,131...|(692,[129,130,131...|\n",
            "|  0.0|(692,[154,155,156...|(692,[154,155,156...|\n",
            "|  1.0|(692,[150,151,152...|(692,[150,151,152...|\n",
            "|  0.0|(692,[124,125,126...|(692,[124,125,126...|\n",
            "|  0.0|(692,[152,153,154...|(692,[152,153,154...|\n",
            "|  1.0|(692,[97,98,99,12...|(692,[97,98,99,12...|\n",
            "|  1.0|(692,[124,125,126...|(692,[124,125,126...|\n",
            "+-----+--------------------+--------------------+\n",
            "only showing top 20 rows\n",
            "\n"
          ],
          "name": "stdout"
        }
      ]
    },
    {
      "cell_type": "code",
      "metadata": {
        "id": "0glr8vTBiMyM"
      },
      "source": [
        "# Split the data into training and test sets (30% held out for testing)\n",
        "(trainingData, testData) = data.randomSplit([0.7, 0.3])"
      ],
      "execution_count": null,
      "outputs": []
    },
    {
      "cell_type": "code",
      "metadata": {
        "id": "itmEnBMEiPt1"
      },
      "source": [
        "# Train a DecisionTree model.\n",
        "dt = DecisionTreeClassifier(labelCol=\"indexedLabel\", featuresCol=\"indexedFeatures\")"
      ],
      "execution_count": null,
      "outputs": []
    },
    {
      "cell_type": "code",
      "metadata": {
        "id": "f8bm_-Ysi3QZ"
      },
      "source": [
        "# Chain indexers and tree in a Pipeline\n",
        "pipeline = Pipeline(stages=[labelIndexer, featureIndexer, dt])"
      ],
      "execution_count": null,
      "outputs": []
    },
    {
      "cell_type": "code",
      "metadata": {
        "id": "iX1y2R90kNc7"
      },
      "source": [
        "# Train model.  This also runs the indexers.\n",
        "model = pipeline.fit(trainingData)"
      ],
      "execution_count": null,
      "outputs": []
    },
    {
      "cell_type": "code",
      "metadata": {
        "id": "ZpPPaxlpkSp7"
      },
      "source": [
        "# Make predictions.\n",
        "predictions = model.transform(testData)"
      ],
      "execution_count": null,
      "outputs": []
    },
    {
      "cell_type": "code",
      "metadata": {
        "colab": {
          "base_uri": "https://localhost:8080/"
        },
        "id": "pBsqkrvEkVzR",
        "outputId": "54ef7a72-78cf-4143-a276-cf5869d94b77"
      },
      "source": [
        "# Select example rows to display.\n",
        "predictions.select(\"prediction\", \"indexedLabel\", \"features\").show(5)"
      ],
      "execution_count": null,
      "outputs": [
        {
          "output_type": "stream",
          "text": [
            "+----------+------------+--------------------+\n",
            "|prediction|indexedLabel|            features|\n",
            "+----------+------------+--------------------+\n",
            "|       1.0|         1.0|(692,[123,124,125...|\n",
            "|       1.0|         1.0|(692,[124,125,126...|\n",
            "|       1.0|         1.0|(692,[124,125,126...|\n",
            "|       1.0|         1.0|(692,[125,126,127...|\n",
            "|       1.0|         1.0|(692,[126,127,128...|\n",
            "+----------+------------+--------------------+\n",
            "only showing top 5 rows\n",
            "\n"
          ],
          "name": "stdout"
        }
      ]
    },
    {
      "cell_type": "code",
      "metadata": {
        "colab": {
          "base_uri": "https://localhost:8080/"
        },
        "id": "5bHarAEWkZM1",
        "outputId": "ca4946c9-cc58-4aff-f253-3bf167faf52c"
      },
      "source": [
        "# Select (prediction, true label) and compute test error\n",
        "evaluator = MulticlassClassificationEvaluator(\n",
        "    labelCol=\"indexedLabel\", predictionCol=\"prediction\", metricName=\"accuracy\")\n",
        "accuracy = evaluator.evaluate(predictions)\n",
        "print(\"Test Error = %g \" % (1.0 - accuracy))"
      ],
      "execution_count": null,
      "outputs": [
        {
          "output_type": "stream",
          "text": [
            "Test Error = 0.0333333 \n"
          ],
          "name": "stdout"
        }
      ]
    },
    {
      "cell_type": "code",
      "metadata": {
        "colab": {
          "base_uri": "https://localhost:8080/"
        },
        "id": "aBwKVjJeklA8",
        "outputId": "d4934662-64ab-4f9d-9012-9ce234a557cc"
      },
      "source": [
        "treeModel = model.stages[2]\n",
        "# summary only\n",
        "print(treeModel)"
      ],
      "execution_count": null,
      "outputs": [
        {
          "output_type": "stream",
          "text": [
            "DecisionTreeClassificationModel: uid=DecisionTreeClassifier_c323a125c71a, depth=2, numNodes=5, numClasses=2, numFeatures=692\n"
          ],
          "name": "stdout"
        }
      ]
    },
    {
      "cell_type": "code",
      "metadata": {
        "id": "C-IwfM2Uknn5"
      },
      "source": [
        ""
      ],
      "execution_count": null,
      "outputs": []
    }
  ]
}